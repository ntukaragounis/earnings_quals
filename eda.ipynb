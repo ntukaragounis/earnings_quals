{
 "cells": [
  {
   "cell_type": "code",
   "execution_count": 1,
   "id": "64881ad8",
   "metadata": {},
   "outputs": [],
   "source": [
    "import pandas as pd\n",
    "import numpy as np\n",
    "import seaborn as sns\n",
    "import matplotlib.pyplot as plt\n",
    "%matplotlib inline"
   ]
  },
  {
   "cell_type": "code",
   "execution_count": 2,
   "id": "8cb86d74",
   "metadata": {},
   "outputs": [],
   "source": [
    "quals = pd.read_csv(r\"C:\\Users\\mrkka\\Desktop\\Data\\Earnings and qualifications\\raw_quals.csv\")\n",
    "earns = pd.read_csv(r\"C:\\Users\\mrkka\\Desktop\\Data\\Earnings and qualifications\\raw_earnings.csv\")"
   ]
  },
  {
   "cell_type": "code",
   "execution_count": 3,
   "id": "69024877",
   "metadata": {},
   "outputs": [
    {
     "name": "stdout",
     "output_type": "stream",
     "text": [
      "<class 'pandas.core.frame.DataFrame'>\n",
      "RangeIndex: 377520 entries, 0 to 377519\n",
      "Data columns (total 28 columns):\n",
      " #   Column               Non-Null Count   Dtype  \n",
      "---  ------               --------------   -----  \n",
      " 0   date                 377520 non-null  object \n",
      " 1   date_name            377520 non-null  object \n",
      " 2   date_code            377520 non-null  object \n",
      " 3   date_type            377520 non-null  object \n",
      " 4   date_typecode        377520 non-null  int64  \n",
      " 5   date_sortorder       377520 non-null  int64  \n",
      " 6   geography            377520 non-null  int64  \n",
      " 7   geography_name       377520 non-null  object \n",
      " 8   geography_code       377520 non-null  object \n",
      " 9   geography_type       377520 non-null  object \n",
      " 10  geography_typecode   377520 non-null  int64  \n",
      " 11  geography_sortorder  377520 non-null  int64  \n",
      " 12  variable             377520 non-null  int64  \n",
      " 13  variable_name        377520 non-null  object \n",
      " 14  variable_code        377520 non-null  int64  \n",
      " 15  variable_type        377520 non-null  object \n",
      " 16  variable_typecode    377520 non-null  int64  \n",
      " 17  variable_sortorder   377520 non-null  int64  \n",
      " 18  measures             377520 non-null  int64  \n",
      " 19  measures_name        377520 non-null  object \n",
      " 20  obs_value            189819 non-null  float64\n",
      " 21  obs_status           377520 non-null  object \n",
      " 22  obs_status_name      377520 non-null  object \n",
      " 23  obs_conf             377520 non-null  object \n",
      " 24  obs_conf_name        377520 non-null  object \n",
      " 25  urn                  377520 non-null  object \n",
      " 26  record_offset        377520 non-null  int64  \n",
      " 27  record_count         377520 non-null  int64  \n",
      "dtypes: float64(1), int64(12), object(15)\n",
      "memory usage: 80.6+ MB\n"
     ]
    }
   ],
   "source": [
    "quals.columns = [x.lower() for x in quals.columns]\n",
    "quals.info()"
   ]
  },
  {
   "cell_type": "code",
   "execution_count": 4,
   "id": "739fdf66",
   "metadata": {},
   "outputs": [
    {
     "name": "stdout",
     "output_type": "stream",
     "text": [
      "<class 'pandas.core.frame.DataFrame'>\n",
      "Int64Index: 189819 entries, 24 to 377491\n",
      "Data columns (total 28 columns):\n",
      " #   Column               Non-Null Count   Dtype  \n",
      "---  ------               --------------   -----  \n",
      " 0   date                 189819 non-null  object \n",
      " 1   date_name            189819 non-null  object \n",
      " 2   date_code            189819 non-null  object \n",
      " 3   date_type            189819 non-null  object \n",
      " 4   date_typecode        189819 non-null  int64  \n",
      " 5   date_sortorder       189819 non-null  int64  \n",
      " 6   geography            189819 non-null  int64  \n",
      " 7   geography_name       189819 non-null  object \n",
      " 8   geography_code       189819 non-null  object \n",
      " 9   geography_type       189819 non-null  object \n",
      " 10  geography_typecode   189819 non-null  int64  \n",
      " 11  geography_sortorder  189819 non-null  int64  \n",
      " 12  variable             189819 non-null  int64  \n",
      " 13  variable_name        189819 non-null  object \n",
      " 14  variable_code        189819 non-null  int64  \n",
      " 15  variable_type        189819 non-null  object \n",
      " 16  variable_typecode    189819 non-null  int64  \n",
      " 17  variable_sortorder   189819 non-null  int64  \n",
      " 18  measures             189819 non-null  int64  \n",
      " 19  measures_name        189819 non-null  object \n",
      " 20  obs_value            189819 non-null  float64\n",
      " 21  obs_status           189819 non-null  object \n",
      " 22  obs_status_name      189819 non-null  object \n",
      " 23  obs_conf             189819 non-null  object \n",
      " 24  obs_conf_name        189819 non-null  object \n",
      " 25  urn                  189819 non-null  object \n",
      " 26  record_offset        189819 non-null  int64  \n",
      " 27  record_count         189819 non-null  int64  \n",
      "dtypes: float64(1), int64(12), object(15)\n",
      "memory usage: 42.0+ MB\n"
     ]
    }
   ],
   "source": [
    "quals = quals.dropna(subset='obs_value')\n",
    "quals.info()"
   ]
  },
  {
   "cell_type": "code",
   "execution_count": 5,
   "id": "7f8190c5",
   "metadata": {},
   "outputs": [
    {
     "data": {
      "text/plain": [
       "2005    10113\n",
       "2004    10028\n",
       "2006     9980\n",
       "2007     9963\n",
       "2008     9937\n",
       "2009     9907\n",
       "2010     9855\n",
       "2011     9787\n",
       "2012     9744\n",
       "2013     9724\n",
       "2014     9690\n",
       "2015     9646\n",
       "2016     9577\n",
       "2017     9557\n",
       "2018     9498\n",
       "2019     9456\n",
       "2020     9282\n",
       "2021     9278\n",
       "2022     7599\n",
       "2023     7198\n",
       "Name: year, dtype: int64"
      ]
     },
     "execution_count": 5,
     "metadata": {},
     "output_type": "execute_result"
    }
   ],
   "source": [
    "quals['year'] = quals['date'].str[:4]\n",
    "quals.year.value_counts()"
   ]
  },
  {
   "cell_type": "code",
   "execution_count": 6,
   "id": "e6c6f906",
   "metadata": {},
   "outputs": [
    {
     "data": {
      "text/plain": [
       "array(['% with NVQ4+ - aged 16-64', '% with NVQ3 only - aged 16-64',\n",
       "       '% with Trade Apprenticeships - aged 16-64',\n",
       "       '% with NVQ2 only - aged 16-64', '% with NVQ1 only - aged 16-64',\n",
       "       '% with other qualifications (NVQ) - aged 16-64',\n",
       "       '% with no qualifications (NVQ) - aged 16-64',\n",
       "       '% with RQF4+ - aged 16-64', '% with RQF3 only - aged 16-64',\n",
       "       '% with RQF2 only - aged 16-64', '% with RQF1 only - aged 16-64',\n",
       "       '% with other qualifications (RQF) - aged 16-64',\n",
       "       '% with no qualifications (RQF) - aged 16-64'], dtype=object)"
      ]
     },
     "execution_count": 6,
     "metadata": {},
     "output_type": "execute_result"
    }
   ],
   "source": [
    "quals.variable_name.unique()"
   ]
  },
  {
   "cell_type": "code",
   "execution_count": 7,
   "id": "3423c38e",
   "metadata": {},
   "outputs": [],
   "source": [
    "conditions = [\n",
    "    quals['variable_name'].str.find(\"4+\") != -1,\n",
    "    quals['variable_name'].str.find(\"3 only\") != -1,\n",
    "    quals['variable_name'].str.find(\"2 only\") != -1,\n",
    "    quals['variable_name'].str.find(\"1 only\") != -1,\n",
    "    quals['variable_name'].str.find(\"Trade\") != -1,\n",
    "    quals['variable_name'].str.find(\"with other\") != -1,\n",
    "    quals['variable_name'].str.find(\"with no\") != -1,\n",
    "]\n",
    "\n",
    "values = ['L4+', 'L3', 'L2', 'L1', 'Apprenticeship', 'Other quals', 'No quals']\n",
    "\n",
    "quals['level'] = np.select(conditions, values)\n"
   ]
  },
  {
   "cell_type": "code",
   "execution_count": 8,
   "id": "3a0e1947",
   "metadata": {},
   "outputs": [
    {
     "data": {
      "text/plain": [
       "array(['Variable', 'Numerator', 'Denominator', 'Confidence'], dtype=object)"
      ]
     },
     "execution_count": 8,
     "metadata": {},
     "output_type": "execute_result"
    }
   ],
   "source": [
    "quals.measures_name.unique()    "
   ]
  },
  {
   "cell_type": "code",
   "execution_count": 9,
   "id": "b38afc27",
   "metadata": {},
   "outputs": [
    {
     "name": "stdout",
     "output_type": "stream",
     "text": [
      "<class 'pandas.core.frame.DataFrame'>\n",
      "Int64Index: 362 entries, 320916 to 339740\n",
      "Data columns (total 30 columns):\n",
      " #   Column               Non-Null Count  Dtype  \n",
      "---  ------               --------------  -----  \n",
      " 0   date                 362 non-null    object \n",
      " 1   date_name            362 non-null    object \n",
      " 2   date_code            362 non-null    object \n",
      " 3   date_type            362 non-null    object \n",
      " 4   date_typecode        362 non-null    int64  \n",
      " 5   date_sortorder       362 non-null    int64  \n",
      " 6   geography            362 non-null    int64  \n",
      " 7   geography_name       362 non-null    object \n",
      " 8   geography_code       362 non-null    object \n",
      " 9   geography_type       362 non-null    object \n",
      " 10  geography_typecode   362 non-null    int64  \n",
      " 11  geography_sortorder  362 non-null    int64  \n",
      " 12  variable             362 non-null    int64  \n",
      " 13  variable_name        362 non-null    object \n",
      " 14  variable_code        362 non-null    int64  \n",
      " 15  variable_type        362 non-null    object \n",
      " 16  variable_typecode    362 non-null    int64  \n",
      " 17  variable_sortorder   362 non-null    int64  \n",
      " 18  measures             362 non-null    int64  \n",
      " 19  measures_name        362 non-null    object \n",
      " 20  obs_value            362 non-null    float64\n",
      " 21  obs_status           362 non-null    object \n",
      " 22  obs_status_name      362 non-null    object \n",
      " 23  obs_conf             362 non-null    object \n",
      " 24  obs_conf_name        362 non-null    object \n",
      " 25  urn                  362 non-null    object \n",
      " 26  record_offset        362 non-null    int64  \n",
      " 27  record_count         362 non-null    int64  \n",
      " 28  year                 362 non-null    object \n",
      " 29  level                362 non-null    object \n",
      "dtypes: float64(1), int64(12), object(17)\n",
      "memory usage: 87.7+ KB\n"
     ]
    }
   ],
   "source": [
    "q_sub = quals[(quals['level'] == 'L4+') & (quals['measures_name'] == 'Variable') & (quals['year'] == '2021')]\n",
    "q_sub.info()"
   ]
  },
  {
   "cell_type": "code",
   "execution_count": 10,
   "id": "01d803c3",
   "metadata": {},
   "outputs": [],
   "source": [
    "x_sub = q_sub[['geography_name', 'obs_value']].reset_index(drop=True)\n",
    "x_sub = x_sub.rename(columns={'obs_value': 'NVQ4+'})"
   ]
  },
  {
   "cell_type": "code",
   "execution_count": 11,
   "id": "489fbea0",
   "metadata": {},
   "outputs": [
    {
     "data": {
      "text/plain": [
       "<Axes: xlabel='NVQ4+', ylabel='Density'>"
      ]
     },
     "execution_count": 11,
     "metadata": {},
     "output_type": "execute_result"
    },
    {
     "data": {
      "image/png": "[encoded data removed]",
      "text/plain": [
       "<Figure size 640x480 with 1 Axes>"
      ]
     },
     "metadata": {},
     "output_type": "display_data"
    }
   ],
   "source": [
    "sns.kdeplot(x_sub['NVQ4+'])"
   ]
  },
  {
   "cell_type": "code",
   "execution_count": 13,
   "id": "98376c7c",
   "metadata": {},
   "outputs": [],
   "source": [
    "min_value = x_sub['NVQ4+'].min()\n",
    "max_value = x_sub['NVQ4+'].max()"
   ]
  },
  {
   "cell_type": "code",
   "execution_count": 14,
   "id": "68791692",
   "metadata": {},
   "outputs": [],
   "source": [
    "rows_with_min = x_sub[x_sub['NVQ4+'] == min_value]\n",
    "rows_with_max = x_sub[x_sub['NVQ4+'] == max_value]"
   ]
  },
  {
   "cell_type": "code",
   "execution_count": 15,
   "id": "616c4f0f",
   "metadata": {},
   "outputs": [
    {
     "data": {
      "text/html": [
       "<div>\n",
       "<style scoped>\n",
       "    .dataframe tbody tr th:only-of-type {\n",
       "        vertical-align: middle;\n",
       "    }\n",
       "\n",
       "    .dataframe tbody tr th {\n",
       "        vertical-align: top;\n",
       "    }\n",
       "\n",
       "    .dataframe thead th {\n",
       "        text-align: right;\n",
       "    }\n",
       "</style>\n",
       "<table border=\"1\" class=\"dataframe\">\n",
       "  <thead>\n",
       "    <tr style=\"text-align: right;\">\n",
       "      <th></th>\n",
       "      <th>geography_name</th>\n",
       "      <th>NVQ4+</th>\n",
       "    </tr>\n",
       "  </thead>\n",
       "  <tbody>\n",
       "    <tr>\n",
       "      <th>102</th>\n",
       "      <td>Mansfield</td>\n",
       "      <td>16.7</td>\n",
       "    </tr>\n",
       "  </tbody>\n",
       "</table>\n",
       "</div>"
      ],
      "text/plain": [
       "    geography_name  NVQ4+\n",
       "102      Mansfield   16.7"
      ]
     },
     "execution_count": 15,
     "metadata": {},
     "output_type": "execute_result"
    }
   ],
   "source": [
    "rows_with_min"
   ]
  },
  {
   "cell_type": "code",
   "execution_count": 16,
   "id": "1bd76762",
   "metadata": {},
   "outputs": [
    {
     "data": {
      "text/html": [
       "<div>\n",
       "<style scoped>\n",
       "    .dataframe tbody tr th:only-of-type {\n",
       "        vertical-align: middle;\n",
       "    }\n",
       "\n",
       "    .dataframe tbody tr th {\n",
       "        vertical-align: top;\n",
       "    }\n",
       "\n",
       "    .dataframe thead th {\n",
       "        text-align: right;\n",
       "    }\n",
       "</style>\n",
       "<table border=\"1\" class=\"dataframe\">\n",
       "  <thead>\n",
       "    <tr style=\"text-align: right;\">\n",
       "      <th></th>\n",
       "      <th>geography_name</th>\n",
       "      <th>NVQ4+</th>\n",
       "    </tr>\n",
       "  </thead>\n",
       "  <tbody>\n",
       "    <tr>\n",
       "      <th>183</th>\n",
       "      <td>City of London</td>\n",
       "      <td>93.9</td>\n",
       "    </tr>\n",
       "  </tbody>\n",
       "</table>\n",
       "</div>"
      ],
      "text/plain": [
       "     geography_name  NVQ4+\n",
       "183  City of London   93.9"
      ]
     },
     "execution_count": 16,
     "metadata": {},
     "output_type": "execute_result"
    }
   ],
   "source": [
    "rows_with_max"
   ]
  },
  {
   "cell_type": "markdown",
   "id": "5ee7e3b7",
   "metadata": {},
   "source": [
    "# Earnings"
   ]
  },
  {
   "cell_type": "code",
   "execution_count": 17,
   "id": "4c175f59",
   "metadata": {},
   "outputs": [],
   "source": [
    "earns.columns = [x.lower() for x in earns.columns]"
   ]
  },
  {
   "cell_type": "code",
   "execution_count": 18,
   "id": "0d0f126e",
   "metadata": {},
   "outputs": [],
   "source": [
    "earns = earns.dropna(subset='obs_value')"
   ]
  },
  {
   "cell_type": "code",
   "execution_count": 19,
   "id": "1c9f04b9",
   "metadata": {},
   "outputs": [
    {
     "name": "stdout",
     "output_type": "stream",
     "text": [
      "<class 'pandas.core.frame.DataFrame'>\n",
      "Int64Index: 101442 entries, 42000 to 153999\n",
      "Data columns (total 40 columns):\n",
      " #   Column               Non-Null Count   Dtype  \n",
      "---  ------               --------------   -----  \n",
      " 0   date                 101442 non-null  int64  \n",
      " 1   date_name            101442 non-null  int64  \n",
      " 2   date_code            101442 non-null  int64  \n",
      " 3   date_type            101442 non-null  object \n",
      " 4   date_typecode        101442 non-null  int64  \n",
      " 5   date_sortorder       101442 non-null  int64  \n",
      " 6   geography            101442 non-null  int64  \n",
      " 7   geography_name       101442 non-null  object \n",
      " 8   geography_code       101442 non-null  object \n",
      " 9   geography_type       101442 non-null  object \n",
      " 10  geography_typecode   101442 non-null  int64  \n",
      " 11  geography_sortorder  101442 non-null  int64  \n",
      " 12  sex                  101442 non-null  int64  \n",
      " 13  sex_name             101442 non-null  object \n",
      " 14  sex_code             101442 non-null  int64  \n",
      " 15  sex_type             101442 non-null  object \n",
      " 16  sex_typecode         101442 non-null  int64  \n",
      " 17  sex_sortorder        101442 non-null  int64  \n",
      " 18  pay                  101442 non-null  int64  \n",
      " 19  pay_name             101442 non-null  object \n",
      " 20  pay_code             101442 non-null  int64  \n",
      " 21  pay_type             101442 non-null  object \n",
      " 22  pay_typecode         101442 non-null  int64  \n",
      " 23  pay_sortorder        101442 non-null  int64  \n",
      " 24  item                 101442 non-null  int64  \n",
      " 25  item_name            101442 non-null  object \n",
      " 26  item_code            101442 non-null  int64  \n",
      " 27  item_type            101442 non-null  object \n",
      " 28  item_typecode        101442 non-null  int64  \n",
      " 29  item_sortorder       101442 non-null  int64  \n",
      " 30  measures             101442 non-null  int64  \n",
      " 31  measures_name        101442 non-null  object \n",
      " 32  obs_value            101442 non-null  float64\n",
      " 33  obs_status           101442 non-null  object \n",
      " 34  obs_status_name      101442 non-null  object \n",
      " 35  obs_conf             101442 non-null  object \n",
      " 36  obs_conf_name        101442 non-null  object \n",
      " 37  urn                  101442 non-null  object \n",
      " 38  record_offset        101442 non-null  int64  \n",
      " 39  record_count         101442 non-null  int64  \n",
      "dtypes: float64(1), int64(23), object(16)\n",
      "memory usage: 31.7+ MB\n"
     ]
    }
   ],
   "source": [
    "earns.info()"
   ]
  },
  {
   "cell_type": "code",
   "execution_count": 20,
   "id": "8ac8cef5",
   "metadata": {},
   "outputs": [
    {
     "data": {
      "text/plain": [
       "array(['Male', 'Female', 'Total', 'Full Time Workers',\n",
       "       'Part Time Workers'], dtype=object)"
      ]
     },
     "execution_count": 20,
     "metadata": {},
     "output_type": "execute_result"
    }
   ],
   "source": [
    "earns.sex_name.unique()"
   ]
  },
  {
   "cell_type": "code",
   "execution_count": 21,
   "id": "767ce787",
   "metadata": {},
   "outputs": [
    {
     "data": {
      "text/plain": [
       "array(['Weekly pay - gross', 'Annual pay - gross'], dtype=object)"
      ]
     },
     "execution_count": 21,
     "metadata": {},
     "output_type": "execute_result"
    }
   ],
   "source": [
    "earns.pay_name.unique()"
   ]
  },
  {
   "cell_type": "code",
   "execution_count": 22,
   "id": "e28cf8b7",
   "metadata": {},
   "outputs": [
    {
     "data": {
      "text/plain": [
       "array(['Value', 'Confidence'], dtype=object)"
      ]
     },
     "execution_count": 22,
     "metadata": {},
     "output_type": "execute_result"
    }
   ],
   "source": [
    "earns.measures_name.unique()"
   ]
  },
  {
   "cell_type": "code",
   "execution_count": 23,
   "id": "a97e1ed7",
   "metadata": {},
   "outputs": [],
   "source": [
    "e_sub = earns[(earns['sex_name'] == 'Total') & \n",
    "              (earns['pay_name'] == 'Annual pay - gross') & \n",
    "              (earns['measures_name'] == 'Value') & \n",
    "              (earns['date'] == 2021)\n",
    "]"
   ]
  },
  {
   "cell_type": "code",
   "execution_count": 24,
   "id": "c181bc09",
   "metadata": {},
   "outputs": [
    {
     "name": "stdout",
     "output_type": "stream",
     "text": [
      "<class 'pandas.core.frame.DataFrame'>\n",
      "Int64Index: 334 entries, 133010 to 139990\n",
      "Data columns (total 40 columns):\n",
      " #   Column               Non-Null Count  Dtype  \n",
      "---  ------               --------------  -----  \n",
      " 0   date                 334 non-null    int64  \n",
      " 1   date_name            334 non-null    int64  \n",
      " 2   date_code            334 non-null    int64  \n",
      " 3   date_type            334 non-null    object \n",
      " 4   date_typecode        334 non-null    int64  \n",
      " 5   date_sortorder       334 non-null    int64  \n",
      " 6   geography            334 non-null    int64  \n",
      " 7   geography_name       334 non-null    object \n",
      " 8   geography_code       334 non-null    object \n",
      " 9   geography_type       334 non-null    object \n",
      " 10  geography_typecode   334 non-null    int64  \n",
      " 11  geography_sortorder  334 non-null    int64  \n",
      " 12  sex                  334 non-null    int64  \n",
      " 13  sex_name             334 non-null    object \n",
      " 14  sex_code             334 non-null    int64  \n",
      " 15  sex_type             334 non-null    object \n",
      " 16  sex_typecode         334 non-null    int64  \n",
      " 17  sex_sortorder        334 non-null    int64  \n",
      " 18  pay                  334 non-null    int64  \n",
      " 19  pay_name             334 non-null    object \n",
      " 20  pay_code             334 non-null    int64  \n",
      " 21  pay_type             334 non-null    object \n",
      " 22  pay_typecode         334 non-null    int64  \n",
      " 23  pay_sortorder        334 non-null    int64  \n",
      " 24  item                 334 non-null    int64  \n",
      " 25  item_name            334 non-null    object \n",
      " 26  item_code            334 non-null    int64  \n",
      " 27  item_type            334 non-null    object \n",
      " 28  item_typecode        334 non-null    int64  \n",
      " 29  item_sortorder       334 non-null    int64  \n",
      " 30  measures             334 non-null    int64  \n",
      " 31  measures_name        334 non-null    object \n",
      " 32  obs_value            334 non-null    float64\n",
      " 33  obs_status           334 non-null    object \n",
      " 34  obs_status_name      334 non-null    object \n",
      " 35  obs_conf             334 non-null    object \n",
      " 36  obs_conf_name        334 non-null    object \n",
      " 37  urn                  334 non-null    object \n",
      " 38  record_offset        334 non-null    int64  \n",
      " 39  record_count         334 non-null    int64  \n",
      "dtypes: float64(1), int64(23), object(16)\n",
      "memory usage: 107.0+ KB\n"
     ]
    }
   ],
   "source": [
    "e_sub.info()"
   ]
  },
  {
   "cell_type": "code",
   "execution_count": 25,
   "id": "7006bbe5",
   "metadata": {},
   "outputs": [],
   "source": [
    "y_sub = e_sub[['geography_name', 'obs_value']]"
   ]
  },
  {
   "cell_type": "code",
   "execution_count": 26,
   "id": "77a56bee",
   "metadata": {},
   "outputs": [],
   "source": [
    "y_sub = y_sub.rename(columns={'obs_value': 'Annual median income'})"
   ]
  },
  {
   "cell_type": "code",
   "execution_count": 27,
   "id": "6b8ea631",
   "metadata": {},
   "outputs": [
    {
     "data": {
      "text/plain": [
       "<Axes: xlabel='Annual median income', ylabel='Density'>"
      ]
     },
     "execution_count": 27,
     "metadata": {},
     "output_type": "execute_result"
    },
    {
     "data": {
      "image/png": "[encoded data removed]",
      "text/plain": [
       "<Figure size 640x480 with 1 Axes>"
      ]
     },
     "metadata": {},
     "output_type": "display_data"
    }
   ],
   "source": [
    "sns.kdeplot(y_sub['Annual median income'])"
   ]
  },
  {
   "cell_type": "code",
   "execution_count": 28,
   "id": "cd4a03be",
   "metadata": {},
   "outputs": [],
   "source": [
    "df = y_sub.merge(x_sub, on='geography_name', how='left')"
   ]
  },
  {
   "cell_type": "code",
   "execution_count": 29,
   "id": "faa00de4",
   "metadata": {},
   "outputs": [
    {
     "data": {
      "text/plain": [
       "geography_name          0\n",
       "Annual median income    0\n",
       "NVQ4+                   3\n",
       "dtype: int64"
      ]
     },
     "execution_count": 29,
     "metadata": {},
     "output_type": "execute_result"
    }
   ],
   "source": [
    "df.isna().sum()"
   ]
  },
  {
   "cell_type": "code",
   "execution_count": 30,
   "id": "ca5a40a0",
   "metadata": {
    "scrolled": true
   },
   "outputs": [],
   "source": [
    "df = df.dropna()"
   ]
  },
  {
   "cell_type": "code",
   "execution_count": 33,
   "id": "80969fa1",
   "metadata": {},
   "outputs": [
    {
     "data": {
      "text/plain": [
       "<Axes: xlabel='NVQ4+', ylabel='Annual median income'>"
      ]
     },
     "execution_count": 33,
     "metadata": {},
     "output_type": "execute_result"
    },
    {
     "data": {
      "image/png": "[encoded data removed]",
      "text/plain": [
       "<Figure size 640x480 with 1 Axes>"
      ]
     },
     "metadata": {},
     "output_type": "display_data"
    }
   ],
   "source": [
    "sns.regplot(df, y='Annual median income', x='NVQ4+')"
   ]
  },
  {
   "cell_type": "code",
   "execution_count": 32,
   "id": "7695f488",
   "metadata": {},
   "outputs": [
    {
     "name": "stdout",
     "output_type": "stream",
     "text": [
      "                             OLS Regression Results                             \n",
      "================================================================================\n",
      "Dep. Variable:     Annual median income   R-squared:                       0.464\n",
      "Model:                              OLS   Adj. R-squared:                  0.462\n",
      "Method:                   Least Squares   F-statistic:                     284.4\n",
      "Date:                  Thu, 02 May 2024   Prob (F-statistic):           2.01e-46\n",
      "Time:                          20:47:49   Log-Likelihood:                -3083.6\n",
      "No. Observations:                   331   AIC:                             6171.\n",
      "Df Residuals:                       329   BIC:                             6179.\n",
      "Df Model:                             1                                         \n",
      "Covariance Type:              nonrobust                                         \n",
      "==============================================================================\n",
      "                 coef    std err          t      P>|t|      [0.025      0.975]\n",
      "------------------------------------------------------------------------------\n",
      "const       1.666e+04    594.914     28.012      0.000    1.55e+04    1.78e+04\n",
      "NVQ4+        229.1301     13.587     16.864      0.000     202.402     255.858\n",
      "==============================================================================\n",
      "Omnibus:                        9.466   Durbin-Watson:                   1.392\n",
      "Prob(Omnibus):                  0.009   Jarque-Bera (JB):                9.469\n",
      "Skew:                           0.403   Prob(JB):                      0.00879\n",
      "Kurtosis:                       3.193   Cond. No.                         176.\n",
      "==============================================================================\n",
      "\n",
      "Notes:\n",
      "[1] Standard Errors assume that the covariance matrix of the errors is correctly specified.\n"
     ]
    }
   ],
   "source": [
    "import statsmodels.api as sm\n",
    "\n",
    "# Assuming df is your DataFrame, and 'x' and 'y' are your variables\n",
    "Y = df[['Annual median income']]  # Scikit-learn expects X to be a 2D array\n",
    "X = df['NVQ4+']\n",
    "\n",
    "# Add a constant to the model (the intercept)\n",
    "X = sm.add_constant(X)\n",
    "\n",
    "# Fit the regression model\n",
    "model = sm.OLS(Y, X).fit()\n",
    "\n",
    "# Get the regression line\n",
    "print(model.summary())\n"
   ]
  },
  {
   "cell_type": "code",
   "execution_count": null,
   "id": "62de185d",
   "metadata": {},
   "outputs": [],
   "source": []
  }
 ],
 "metadata": {
  "kernelspec": {
   "display_name": "Python 3 (ipykernel)",
   "language": "python",
   "name": "python3"
  },
  "language_info": {
   "codemirror_mode": {
    "name": "ipython",
    "version": 3
   },
   "file_extension": ".py",
   "mimetype": "text/x-python",
   "name": "python",
   "nbconvert_exporter": "python",
   "pygments_lexer": "ipython3",
   "version": "3.10.13"
  }
 },
 "nbformat": 4,
 "nbformat_minor": 5
}
